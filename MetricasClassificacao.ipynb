{
  "nbformat": 4,
  "nbformat_minor": 0,
  "metadata": {
    "colab": {
      "provenance": []
    },
    "kernelspec": {
      "name": "python3",
      "display_name": "Python 3"
    },
    "language_info": {
      "name": "python"
    }
  },
  "cells": [
    {
      "cell_type": "code",
      "execution_count": 6,
      "metadata": {
        "id": "AujTngcAEVTu"
      },
      "outputs": [],
      "source": [
        "# Anotações e práticas de Métricas de Classificação\n",
        "\n",
        "## Importações\n",
        "import numpy as np\n",
        "from sklearn.metrics import accuracy_score, precision_score, recall_score, f1_score, confusion_matrix"
      ]
    },
    {
      "cell_type": "code",
      "source": [
        "## Rótulos binários reais (Ex.: Sobreviveu = 1, Morreu = 0)\n",
        "### '_true' é aplicado à valores REAIS\n",
        "y_true = np.array([1,0,1,1,0,1,0,0,1,0])\n",
        "\n",
        "## Previsões do modelo (Ex.: Previsões de sobrevivência)\n",
        "### '_pred' é aplicado à valores PREVISTOS\n",
        "y_pred = np.array([1,1,1,0,0,1,0,1,1,0])\n",
        "\n",
        "# Matriz de Confusão:\n",
        "\n",
        "## Verdadeiro Negativo, Falso Positivo, Falso Negativo e Verdadeiro Positivo\n",
        "## [[VN, FP]\n",
        "## [FN, VP]]\n",
        "\n",
        "matriz = confusion_matrix(y_true, y_pred)\n",
        "print(\"Matriz de Confusão: \")\n",
        "print(matriz)\n",
        "## Neste exemplo, VN=3, FP=2, FN=1, VP=4\n",
        "\n",
        "# Acurácia:\n",
        "acuracia = accuracy_score(y_true, y_pred)\n",
        "print(f\"\\nAcurácia: {acuracia:.2f}\")\n",
        "\n",
        "# Precisão:\n",
        "precisao = precision_score(y_true, y_pred)\n",
        "print(f\"Precisão: {precisao:.2f}\")\n",
        "\n",
        "# Revocação | Foco: Evitar FNs (Falsos Negativos)\n",
        "revoacao = recall_score(y_true, y_pred)\n",
        "print(f\"Revocação: {revoacao:.2f}\")\n",
        "\n",
        "# F1-Score (equilíbrio)\n",
        "## Equilíbrio entre os reais e previstos\n",
        "f1 = f1_score(y_true, y_pred)\n",
        "print(f\"F1-Score: {f1:.2f}\")\n",
        "\n",
        "#-----------------------------------------------\n",
        "\n",
        "# Resultado:\n",
        "\n",
        "## Matriz de Confusão:\n",
        "\n",
        "##  [[3 2]\n",
        "##  [1 4]]\n",
        "\n",
        "## Acurácia: 0.70\n",
        "## Precisão: 0.67\n",
        "## Revocação: 0.80\n",
        "## F1-Score: 0.73"
      ],
      "metadata": {
        "colab": {
          "base_uri": "https://localhost:8080/"
        },
        "id": "Oprzuv7kP11_",
        "outputId": "1d6af01b-1c56-4742-892a-86e8b7256243"
      },
      "execution_count": 7,
      "outputs": [
        {
          "output_type": "stream",
          "name": "stdout",
          "text": [
            "Matriz de Confusão: \n",
            "[[3 2]\n",
            " [1 4]]\n",
            "\n",
            "Acurácia: 0.70\n",
            "Precisão: 0.67\n",
            "Revocação: 0.80\n",
            "F1-Score: 0.73\n"
          ]
        }
      ]
    },
    {
      "cell_type": "code",
      "source": [
        "# Separando dados de teste, modelos\n",
        "## Outras importações já se encontram acima, mas para não nos perdermos no modelo, deixarei aqui também\n",
        "\n",
        "import numpy as np\n",
        "from sklearn.datasets import make_moons\n",
        "from sklearn.model_selection import train_test_split\n",
        "from sklearn.tree import DecisionTreeClassifier\n",
        "from sklearn.ensemble import RandomForestClassifier\n",
        "from sklearn.metrics import accuracy_score, precision_score, recall_score, f1_score, confusion_matrix"
      ],
      "metadata": {
        "id": "vGAronjFTQSO"
      },
      "execution_count": 8,
      "outputs": []
    },
    {
      "cell_type": "code",
      "source": [
        "# Gerando dataset artificial (2 luas com ruído)\n",
        "X, y = make_moons(n_samples=500, noise=0.3, random_state=42)\n",
        "\n",
        "# Separando em treino e teste\n",
        "X_train, X_test, y_train, y_test = train_test_split(X, y, test_size=0.3, random_state=42) ## 'test_size' é a porcentagem\n",
        "\n",
        "# Árvore de Decisão sem utilizar limiar de profundidade (overfitting)\n",
        "arvore = DecisionTreeClassifier(random_state=42)\n",
        "arvore.fit(X_train, y_train)\n",
        "y_pred_arvore = arvore.predict(X_test)\n",
        "\n",
        "# Random Forest\n",
        "floresta = RandomForestClassifier(random_state=42)\n",
        "floresta.fit(X_train, y_train)\n",
        "y_pred_floresta = floresta.predict(X_test)\n",
        "\n",
        "# Métricas & Acurácia\n",
        "\n",
        "print(\"--------Resultado da Acurácia--------\")\n",
        "print(\"Decision Tree - Treino: \", accuracy_score(y_test, y_pred_arvore))\n",
        "print(\"Decision Tree - Teste: \", accuracy_score(y_test, y_pred_arvore))\n",
        "print(\"Random Forest - Treino: \", accuracy_score(y_train, floresta.predict(X_train)))\n",
        "print(\"Random Forest - Teste: \", accuracy_score(y_test, y_pred_floresta))\n",
        "\n",
        "print(\"\\n------ Decision Tree -------\")\n",
        "print(\"Matriz de Confusão:\\n\", confusion_matrix(y_test, y_pred_arvore))\n",
        "print(f\"Precisão: {precision_score(y_test, y_pred_arvore):.4f}\")\n",
        "print(f\"Revocação: {recall_score(y_test, y_pred_arvore):.4f}\")\n",
        "print(f\"F1-Score: {f1_score(y_test, y_pred_arvore):.4f}\")\n",
        "\n",
        "print(\"\\n------ Random Forest -------\")\n",
        "print(\"Matriz de Confusão:\\n\", confusion_matrix(y_test, y_pred_floresta))\n",
        "print(f\"Precisão: {precision_score(y_test, y_pred_floresta):.4f}\")\n",
        "print(f\"Revocação: {recall_score(y_test, y_pred_floresta):.4f}\")\n",
        "print(f\"F1-Score: {f1_score(y_test, y_pred_floresta):.4f}\")\n",
        "\n",
        "# -----------------------------------------------------------------------\n",
        "\n",
        "# Resultado da Acurácia\n",
        "\n",
        "## Decision Tree - Treino:  0.8533333333333334\n",
        "## Decision Tree - Teste:  0.8533333333333334\n",
        "## Random Forest - Treino:  1.0\n",
        "## Random Forest - Teste:  0.9066666666666666\n",
        "\n",
        "# Decision Tree\n",
        "\n",
        "## Matriz de Confusão:\n",
        "##  [[68  7]\n",
        "##  [15 60]]\n",
        "## Precisão: 0.8955\n",
        "## Revocação: 0.8000 (80% dos reais)\n",
        "## F1-Score: 0.8451 (84%)\n",
        "\n",
        "# Random Forest\n",
        "\n",
        "## Matriz de Confusão:\n",
        "##  [[71  4]\n",
        "##  [10 65]]\n",
        "## Precisão: 0.9420\n",
        "## Revocação: 0.8667 (86% dos reais)\n",
        "## F1-Score: 0.9028 (90%)\n",
        "\n",
        "## F1-Score procura manter o equilíbrio, mas ainda há maior desempenho em Random Forest"
      ],
      "metadata": {
        "colab": {
          "base_uri": "https://localhost:8080/"
        },
        "id": "a7CVlnDgUIev",
        "outputId": "288c602e-72e6-4316-af99-5773eb851809"
      },
      "execution_count": 11,
      "outputs": [
        {
          "output_type": "stream",
          "name": "stdout",
          "text": [
            "--------Resultado da Acurácia--------\n",
            "Decision Tree - Treino:  0.8533333333333334\n",
            "Decision Tree - Teste:  0.8533333333333334\n",
            "Random Forest - Treino:  1.0\n",
            "Random Forest - Teste:  0.9066666666666666\n",
            "\n",
            "------ Decision Tree -------\n",
            "Matriz de Confusão:\n",
            " [[68  7]\n",
            " [15 60]]\n",
            "Precisão: 0.8955\n",
            "Revocação: 0.8000\n",
            "F1-Score: 0.8451\n",
            "\n",
            "------ Random Forest -------\n",
            "Matriz de Confusão:\n",
            " [[71  4]\n",
            " [10 65]]\n",
            "Precisão: 0.9420\n",
            "Revocação: 0.8667\n",
            "F1-Score: 0.9028\n"
          ]
        }
      ]
    }
  ]
}