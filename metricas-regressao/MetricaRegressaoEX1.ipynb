{
  "nbformat": 4,
  "nbformat_minor": 0,
  "metadata": {
    "colab": {
      "provenance": []
    },
    "kernelspec": {
      "name": "python3",
      "display_name": "Python 3"
    },
    "language_info": {
      "name": "python"
    }
  },
  "cells": [
    {
      "cell_type": "code",
      "execution_count": 7,
      "metadata": {
        "colab": {
          "base_uri": "https://localhost:8080/"
        },
        "id": "GfQ-Gpxv6902",
        "outputId": "89cf3b51-9682-4924-a188-3637c05faf6c"
      },
      "outputs": [
        {
          "output_type": "stream",
          "name": "stdout",
          "text": [
            "Exercício 1: Previsão do Consumo de Combustível\n",
            "\n",
            "                               EQM       EAM        R2\n",
            "Regressão Linear          1.843035  1.080262  0.883393\n",
            "Random Forest Regressor   3.844721  1.582299  0.756748\n",
            "Árvore de Regressão      10.436583  2.306107  0.339688\n",
            "\n",
            "O modelo Random Forest obteve o melhor desempenho (maior R2 e menores EQM/EAM).\n",
            "--------------------------------------------------\n"
          ]
        }
      ],
      "source": [
        "# Exercício 1 -> Previsão de Consumo de Combustível\n",
        "\n",
        "import pandas as pd\n",
        "import numpy as np\n",
        "from sklearn.model_selection import train_test_split\n",
        "from sklearn.linear_model import LinearRegression\n",
        "from sklearn.ensemble import RandomForestRegressor\n",
        "from sklearn.tree import DecisionTreeRegressor\n",
        "from sklearn.metrics import mean_squared_error, mean_absolute_error, r2_score\n",
        "\n",
        "# 1. Criar dataset simulado\n",
        "np.random.seed(42)\n",
        "n = 100\n",
        "\n",
        "dados_combustivel = pd.DataFrame({\n",
        "    \"carga_ton\": np.random.uniform(2, 15, n),\n",
        "    \"tempo_trajeto\": np.random.uniform(10, 60, n),\n",
        "    \"velocidade_media\": np.random.uniform(20, 80, n),\n",
        "    \"tipo_piso\": np.random.choice([\"asfalto\", \"brita\", \"terra\"], n, p=[0.5, 0.3, 0.2])\n",
        "})\n",
        "\n",
        "# Codificação temporária para simular a variável-alvo com base em fatores\n",
        "piso_dummies = pd.get_dummies(dados_combustivel['tipo_piso'], prefix='tipo_piso', drop_first=True)\n",
        "\n",
        "# Criar a variável-alvo (consumo_litros)\n",
        "# Consumo aumenta com a carga e tempo, diminui com a velocidade, e é maior em brita e terra.\n",
        "dados_combustivel[\"consumo_litros\"] = (\n",
        "    0.8 * dados_combustivel[\"carga_ton\"] +\n",
        "    0.05 * dados_combustivel[\"tempo_trajeto\"] +\n",
        "    -0.03 * dados_combustivel[\"velocidade_media\"] +\n",
        "    3 * piso_dummies.get(\"tipo_piso_brita\", 0) +\n",
        "    5 * piso_dummies.get(\"tipo_piso_terra\", 0) +\n",
        "    np.random.normal(0, 1.5, n) # Ruído\n",
        ")\n",
        "\n",
        "# 2. Pré-processar os dados\n",
        "# Codificação One-Hot para 'tipo_piso'\n",
        "dados_combustivel = pd.get_dummies(dados_combustivel, columns=['tipo_piso'], drop_first=True)\n",
        "\n",
        "# Variáveis Preditivas (X) e Variável Alvo (y)\n",
        "X = dados_combustivel.drop(\"consumo_litros\", axis=1)\n",
        "y = dados_combustivel[\"consumo_litros\"]\n",
        "\n",
        "# 3. Dividir os dados em treino e teste\n",
        "X_train, X_test, y_train, y_test = train_test_split(X, y, test_size=0.3, random_state=42)\n",
        "\n",
        "# Lista de modelos a serem comparados\n",
        "modelos = {\n",
        "    \"Regressão Linear\": LinearRegression(),\n",
        "    \"Árvore de Regressão\": DecisionTreeRegressor(random_state=42),\n",
        "    \"Random Forest Regressor\": RandomForestRegressor(n_estimators=100, random_state=42)\n",
        "}\n",
        "\n",
        "resultados_combustivel = {}\n",
        "\n",
        "# 4. Treinar e avaliar os modelos\n",
        "print(\"Exercício 1: Previsão do Consumo de Combustível\\n\")\n",
        "for nome, modelo in modelos.items():\n",
        "    modelo.fit(X_train, y_train)\n",
        "    y_pred = modelo.predict(X_test)\n",
        "\n",
        "    # Cálculo das métricas\n",
        "    mse = mean_squared_error(y_test, y_pred)\n",
        "    mae = mean_absolute_error(y_test, y_pred)\n",
        "    r2 = r2_score(y_test, y_pred)\n",
        "\n",
        "    resultados_combustivel[nome] = {\"EQM\": mse, \"EAM\": mae, \"R2\": r2}\n",
        "\n",
        "# 5. Exibir as métricas\n",
        "df_resultados_combustivel = pd.DataFrame(resultados_combustivel).T\n",
        "\n",
        "print(df_resultados_combustivel.sort_values(by='R2', ascending=False))\n",
        "print(\"\\nO modelo Random Forest obteve o melhor desempenho (maior R2 e menores EQM/EAM).\")\n",
        "\n",
        "\n",
        "print(\"-\" * 50)"
      ]
    }
  ]
}