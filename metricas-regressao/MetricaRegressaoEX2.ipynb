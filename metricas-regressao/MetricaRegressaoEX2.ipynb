{
  "nbformat": 4,
  "nbformat_minor": 0,
  "metadata": {
    "colab": {
      "provenance": []
    },
    "kernelspec": {
      "name": "python3",
      "display_name": "Python 3"
    },
    "language_info": {
      "name": "python"
    }
  },
  "cells": [
    {
      "cell_type": "code",
      "execution_count": null,
      "metadata": {
        "id": "nceLEwvV8ATD"
      },
      "outputs": [],
      "source": [
        "# Exercício 2 -> Previsão de tempo de resfriamento\n",
        "\n",
        "import pandas as pd\n",
        "import numpy as np\n",
        "from sklearn.model_selection import train_test_split\n",
        "from sklearn.linear_model import LinearRegression\n",
        "from sklearn.ensemble import RandomForestRegressor\n",
        "from sklearn.tree import DecisionTreeRegressor\n",
        "from sklearn.metrics import mean_squared_error, mean_absolute_error, r2_score\n",
        "\n",
        "# 1. Criar dataset simulado\n",
        "np.random.seed(43)\n",
        "n = 100\n",
        "\n",
        "dados_resfriamento = pd.DataFrame({\n",
        "    \"temperatura_molde\": np.random.uniform(150, 300, n),\n",
        "    \"pressao_injecao\": np.random.uniform(500, 1500, n),\n",
        "    \"tipo_polimero\": np.random.choice([\"PEAD\", \"PP\", \"PVC\"], n, p=[0.4, 0.3, 0.3])\n",
        "})\n",
        "\n",
        "# Codificação temporária para simular a variável-alvo\n",
        "polimero_dummies = pd.get_dummies(dados_resfriamento['tipo_polimero'], prefix='polimero', drop_first=True)\n",
        "\n",
        "# Criar a variável-alvo (tempo_resfriamento)\n",
        "# Tempo aumenta com a temperatura (principalmente), e varia pelo polímero (PVC>PP>PEAD)\n",
        "dados_resfriamento[\"tempo_resfriamento\"] = (\n",
        "    0.15 * dados_resfriamento[\"temperatura_molde\"] + # Relação principal e quase linear\n",
        "    0.005 * dados_resfriamento[\"pressao_injecao\"] + # Impacto menor\n",
        "    8 * polimero_dummies.get(\"polimero_PVC\", 0) + # PVC (maior tempo)\n",
        "    3 * polimero_dummies.get(\"polimero_PP\", 0) +  # PP (tempo intermediário)\n",
        "    # PEAD é o baseline (menor tempo)\n",
        "    np.random.normal(0, 2.0, n) # Ruído\n",
        ")\n",
        "\n",
        "# 2. Pré-processar os dados\n",
        "# Codificação One-Hot para 'tipo_polimero'\n",
        "dados_resfriamento = pd.get_dummies(dados_resfriamento, columns=['tipo_polimero'], drop_first=True)\n",
        "\n",
        "# Variáveis Preditivas (X) e Variável Alvo (y)\n",
        "X_r = dados_resfriamento.drop(\"tempo_resfriamento\", axis=1)\n",
        "y_r = dados_resfriamento[\"tempo_resfriamento\"]\n",
        "\n",
        "# 3. Dividir os dados em treino e teste\n",
        "X_train_r, X_test_r, y_train_r, y_test_r = train_test_split(X_r, y_r, test_size=0.3, random_state=43)\n",
        "\n",
        "# Modelos a comparar\n",
        "modelos_r = {\n",
        "    \"Regressão Linear\": LinearRegression(),\n",
        "    \"Random Forest\": RandomForestRegressor(n_estimators=100, random_state=43)\n",
        "}\n",
        "\n",
        "resultados_resfriamento = {}\n",
        "\n",
        "# 4. Treinar e avaliar os modelos\n",
        "print(\"Exercício 2: Previsão do Tempo de Resfriamento\\n\")\n",
        "for nome, modelo in modelos_r.items():\n",
        "    modelo.fit(X_train_r, y_train_r)\n",
        "    y_pred_r = modelo.predict(X_test_r)\n",
        "\n",
        "    # Cálculo das métricas\n",
        "    mse = mean_squared_error(y_test_r, y_pred_r)\n",
        "    mae = mean_absolute_error(y_test_r, y_pred_r)\n",
        "    r2 = r2_score(y_test_r, y_pred_r)\n",
        "\n",
        "    resultados_resfriamento[nome] = {\"EQM\": mse, \"EAM\": mae, \"R2\": r2}\n",
        "\n",
        "# 5. Exibir as métricas\n",
        "df_resultados_resfriamento = pd.DataFrame(resultados_resfriamento).T\n",
        "\n",
        "print(df_resultados_resfriamento.sort_values(by='R2', ascending=False))\n",
        "print(\"\\nO modelo Random Forest obteve um R2 ligeiramente melhor (maior) e menores EQM/EAM.\")"
      ]
    }
  ]
}